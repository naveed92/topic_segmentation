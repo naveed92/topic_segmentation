{
 "cells": [
  {
   "cell_type": "code",
   "execution_count": null,
   "id": "2a6056f4",
   "metadata": {},
   "outputs": [],
   "source": []
  },
  {
   "cell_type": "code",
   "execution_count": null,
   "id": "d7d86e63",
   "metadata": {},
   "outputs": [],
   "source": []
  },
  {
   "cell_type": "code",
   "execution_count": 1,
   "id": "4140265f",
   "metadata": {},
   "outputs": [],
   "source": [
    "# load sample document\n",
    "with open('input/sample.txt') as f:\n",
    "    texts = f.read().splitlines()"
   ]
  },
  {
   "cell_type": "code",
   "execution_count": 2,
   "id": "58ebb878",
   "metadata": {},
   "outputs": [
    {
     "data": {
      "text/plain": [
       "['Months before the Supreme Court overturned Roe v. Wade, the federal appeals court based in this Southern city cleared the way to ban most abortions in Texas. The same court appeared to jump the line to block the White House’s signature coronavirus vaccination mandate and split from other courts to back restrictions on social media companies and constrain President Biden’s immigration powers.',\n",
       " 'The U.S. Court of Appeals for the 5th Circuit in New Orleans has long leaned conservative. But the arrival of a half-dozen judges picked by President Donald Trump — many of them young, ambitious and outspoken — has put the court at the forefront of resistance to the Biden administration’s assertions of legal authority and to the regulatory power of federal agencies. Their rulings have at times broken with precedent and exposed rifts among the judges, illustrating Trump’s lasting legacy on the powerful set of federal courts that operate one step below the Supreme Court. Even some veteran conservatives on the court have criticized the newcomers for going too far.',\n",
       " 'Four of the six new judges have worked for Republican politicians in Texas, and some are seen as possible contenders for a future opening on the Supreme Court if a Republican is elected president. With their provocative, colloquial writing styles, the judges are elevating their profiles in far-reaching opinions and public appearances, calling out “cancel culture,” wokeness and sometimes even one another.',\n",
       " '“Any school that refuses to stand up against cancel culture — and instead caters to it, and even engages in it — is not a school that is interested in educational diversity. And it’s not a school I want to have anything to do with,” Judge James C. Ho wrote in an article explaining his proposed boycott on hiring Yale Law School students as law clerks because of concerns about free speech on the campuses of elite institutions.',\n",
       " 'The 5th Circuit reviews appeals from Texas, Mississippi and Louisiana, working from a converted, historic post office building in downtown New Orleans. Besides the expansive geographic area the court covers, it has outsize influence in part because its judges preside over a steady flow of politically potent challenges to the Democratic president filed by aggressive, conservative state attorneys general.',\n",
       " 'Liberal organizations often challenged Trump’s policies in Northern California courts, where most judges were picked by Democrats. But conservatives who strategically file lawsuits against the Biden administration in Texas have an even clearer advantage: They can almost guarantee initial review by a conservative judge and then appellate review by the 5th Circuit, where the Trump picks are routinely the dominant voice.',\n",
       " '“These are the most conservative federal judges in the country having cases specifically brought so that they can decide them at a time when the Supreme Court is reversing some of their decisions, but not all of them. There’s nothing to lose,” said Steve Vladeck, a University of Texas School of Law professor whose analysis of “judge shopping” in Texas was the subject of a recent brief filed in advance of a Supreme Court case.',\n",
       " 'Alexa Gervasi, a former 5th Circuit law clerk who directs the Georgetown Center for the Constitution at Georgetown Law, said it is no surprise that the court is issuing noteworthy rulings in so many significant cases. “The reason it seems like there’s so much fire coming from the 5th Circuit is that they are getting really divisive cases,” said Gervasi, who also has practiced before the court. “If you send controversial cases to the 5th Circuit, you’re going to get controversial opinions.”']"
      ]
     },
     "execution_count": 2,
     "metadata": {},
     "output_type": "execute_result"
    }
   ],
   "source": [
    "texts"
   ]
  },
  {
   "cell_type": "code",
   "execution_count": 3,
   "id": "18be57c5",
   "metadata": {},
   "outputs": [],
   "source": [
    "# Load spacy model\n",
    "\n",
    "import spacy\n",
    "nlp = spacy.load('en_core_web_sm')"
   ]
  },
  {
   "cell_type": "code",
   "execution_count": null,
   "id": "90a62a62",
   "metadata": {},
   "outputs": [],
   "source": []
  },
  {
   "cell_type": "code",
   "execution_count": 4,
   "id": "27031554",
   "metadata": {},
   "outputs": [],
   "source": [
    "# Import plotting library\n",
    "import matplotlib.pyplot as plt\n",
    "plt.rcParams[\"figure.figsize\"] = (8,4)"
   ]
  },
  {
   "cell_type": "code",
   "execution_count": null,
   "id": "ad9c1eac",
   "metadata": {},
   "outputs": [],
   "source": []
  },
  {
   "cell_type": "code",
   "execution_count": 5,
   "id": "f08f8399",
   "metadata": {},
   "outputs": [],
   "source": [
    "# Process input document with spacy and break it into sentences\n",
    "\n",
    "sents = []\n",
    "for text in texts:\n",
    "    doc = nlp(text)\n",
    "    for sent in doc.sents:\n",
    "        sents.append(sent)"
   ]
  },
  {
   "cell_type": "code",
   "execution_count": 6,
   "id": "449e5101",
   "metadata": {},
   "outputs": [
    {
     "data": {
      "text/plain": [
       "[Months before the Supreme Court overturned Roe v. Wade, the federal appeals court based in this Southern city cleared the way to ban most abortions in Texas.,\n",
       " The same court appeared to jump the line to block the White House’s signature coronavirus vaccination mandate and split from other courts to back restrictions on social media companies and constrain President Biden’s immigration powers.,\n",
       " The U.S. Court of Appeals for the 5th Circuit in New Orleans has long leaned conservative.,\n",
       " But the arrival of a half-dozen judges picked by President Donald Trump — many of them young, ambitious and outspoken — has put the court at the forefront of resistance to the Biden administration’s assertions of legal authority and to the regulatory power of federal agencies.,\n",
       " Their rulings have at times broken with precedent and exposed rifts among the judges, illustrating Trump’s lasting legacy on the powerful set of federal courts that operate one step below the Supreme Court.,\n",
       " Even some veteran conservatives on the court have criticized the newcomers for going too far.,\n",
       " Four of the six new judges have worked for Republican politicians in Texas, and some are seen as possible contenders for a future opening on the Supreme Court if a Republican is elected president.,\n",
       " With their provocative, colloquial writing styles, the judges are elevating their profiles in far-reaching opinions and public appearances, calling out “cancel culture,” wokeness and sometimes even one another.,\n",
       " “Any school that refuses to stand up against cancel culture — and instead caters to it, and even engages in it — is not a school that is interested in educational diversity.,\n",
       " And it’s not a school I want to have anything to do with,” Judge James C. Ho wrote in an article explaining his proposed boycott on hiring Yale Law School students as law clerks because of concerns about free speech on the campuses of elite institutions.,\n",
       " The 5th Circuit reviews appeals from Texas, Mississippi and Louisiana, working from a converted, historic post office building in downtown New Orleans.,\n",
       " Besides the expansive geographic area the court covers, it has outsize influence in part because its judges preside over a steady flow of politically potent challenges to the Democratic president filed by aggressive, conservative state attorneys general.,\n",
       " Liberal organizations often challenged Trump’s policies in Northern California courts, where most judges were picked by Democrats.,\n",
       " But conservatives who strategically file lawsuits against the Biden administration in Texas have an even clearer advantage: They can almost guarantee initial review by a conservative judge and then appellate review by the 5th Circuit, where the Trump picks are routinely the dominant voice.,\n",
       " “These are the most conservative federal judges in the country having cases specifically brought so that they can decide them at a time when the Supreme Court is reversing some of their decisions, but not all of them.,\n",
       " There’s nothing to lose,” said Steve Vladeck, a University of Texas School of Law professor whose analysis of “judge shopping” in Texas was the subject of a recent brief filed in advance of a Supreme Court case.,\n",
       " Alexa Gervasi, a former 5th Circuit law clerk who directs the Georgetown Center for the Constitution at Georgetown Law, said it is no surprise that the court is issuing noteworthy rulings in so many significant cases.,\n",
       " “The reason it seems like there’s so much fire coming from the 5th Circuit is that they are getting really divisive cases,” said Gervasi, who also has practiced before the court.,\n",
       " “If you send controversial cases to the 5th Circuit, you’re going to get controversial opinions.”]"
      ]
     },
     "execution_count": 6,
     "metadata": {},
     "output_type": "execute_result"
    }
   ],
   "source": [
    "sents"
   ]
  },
  {
   "cell_type": "code",
   "execution_count": null,
   "id": "be123b4c",
   "metadata": {},
   "outputs": [],
   "source": []
  },
  {
   "cell_type": "code",
   "execution_count": 7,
   "id": "6ce7ecff",
   "metadata": {},
   "outputs": [
    {
     "data": {
      "text/plain": [
       "'LDA based segmentation'"
      ]
     },
     "execution_count": 7,
     "metadata": {},
     "output_type": "execute_result"
    }
   ],
   "source": [
    "\"\"\"LDA based segmentation\"\"\""
   ]
  },
  {
   "cell_type": "code",
   "execution_count": null,
   "id": "1056a5f3",
   "metadata": {},
   "outputs": [],
   "source": []
  },
  {
   "cell_type": "code",
   "execution_count": 8,
   "id": "e6ce0fe0",
   "metadata": {},
   "outputs": [],
   "source": [
    "# Select tokens while ignoring punctuations and stopwords, and lowercase them\n",
    "MIN_LENGTH = 3\n",
    "tokenized_sents = [[token.lemma_.lower() for token in sent if \n",
    "                    not token.is_stop and not token.is_punct and token.text.strip() and len(token) >= MIN_LENGTH] \n",
    "                    for sent in sents]"
   ]
  },
  {
   "cell_type": "code",
   "execution_count": null,
   "id": "ddc43b5d",
   "metadata": {},
   "outputs": [],
   "source": []
  },
  {
   "cell_type": "code",
   "execution_count": 9,
   "id": "2e83f69c",
   "metadata": {},
   "outputs": [
    {
     "data": {
      "text/plain": [
       "[(0,\n",
       "  '0.050*\"court\" + 0.026*\"judge\" + 0.018*\"republican\" + 0.018*\"supreme\" + 0.018*\"far\" + 0.018*\"president\" + 0.010*\"texas\" + 0.010*\"contender\" + 0.010*\"opening\" + 0.010*\"see\"'),\n",
       " (1,\n",
       "  '0.031*\"court\" + 0.030*\"5th\" + 0.030*\"circuit\" + 0.021*\"orleans\" + 0.021*\"new\" + 0.012*\"judge\" + 0.012*\"federal\" + 0.012*\"trump\" + 0.012*\"president\" + 0.011*\"biden\"'),\n",
       " (2,\n",
       "  '0.006*\"conservative\" + 0.005*\"circuit\" + 0.005*\"appeals\" + 0.005*\"5th\" + 0.005*\"lean\" + 0.005*\"u.s.\" + 0.005*\"long\" + 0.005*\"court\" + 0.005*\"new\" + 0.005*\"orleans\"'),\n",
       " (3,\n",
       "  '0.045*\"court\" + 0.019*\"case\" + 0.019*\"law\" + 0.019*\"georgetown\" + 0.019*\"supreme\" + 0.019*\"federal\" + 0.019*\"conservative\" + 0.019*\"judge\" + 0.011*\"say\" + 0.011*\"gervasi\"'),\n",
       " (4,\n",
       "  '0.037*\"school\" + 0.030*\"judge\" + 0.023*\"texas\" + 0.023*\"law\" + 0.016*\"controversial\" + 0.016*\"trump\" + 0.016*\"conservative\" + 0.016*\"5th\" + 0.016*\"pick\" + 0.016*\"circuit\"')]"
      ]
     },
     "execution_count": 9,
     "metadata": {},
     "output_type": "execute_result"
    }
   ],
   "source": [
    "# Build gensim dictionary and topic model\n",
    "from gensim import corpora, models\n",
    "import numpy as np\n",
    "\n",
    "np.random.seed(123)\n",
    "\n",
    "N_TOPICS = 5\n",
    "N_PASSES = 5\n",
    "\n",
    "dictionary = corpora.Dictionary(tokenized_sents)\n",
    "bow = [dictionary.doc2bow(sent) for sent in tokenized_sents]\n",
    "topic_model = models.LdaModel(corpus=bow, id2word=dictionary, num_topics=N_TOPICS, passes=N_PASSES)\n",
    "\n",
    "topic_model.show_topics()"
   ]
  },
  {
   "cell_type": "code",
   "execution_count": null,
   "id": "9f007d0e",
   "metadata": {},
   "outputs": [],
   "source": []
  },
  {
   "cell_type": "code",
   "execution_count": 10,
   "id": "3e39e636",
   "metadata": {},
   "outputs": [],
   "source": [
    "# Infer topics with minimum threshold\n",
    "THRESHOLD = 0.05\n",
    "doc_topics = list(topic_model.get_document_topics(bow, minimum_probability=THRESHOLD))"
   ]
  },
  {
   "cell_type": "code",
   "execution_count": 11,
   "id": "68a50d80",
   "metadata": {
    "scrolled": false
   },
   "outputs": [
    {
     "data": {
      "text/plain": [
       "[[(3, 0.9553131)],\n",
       " [(0, 0.965127)],\n",
       " [(1, 0.92673564)],\n",
       " [(1, 0.96641266)],\n",
       " [(0, 0.95975894)],\n",
       " [(0, 0.8991579)],\n",
       " [(0, 0.9526328)],\n",
       " [(0, 0.9528284)],\n",
       " [(4, 0.93837)],\n",
       " [(4, 0.9651593)]]"
      ]
     },
     "execution_count": 11,
     "metadata": {},
     "output_type": "execute_result"
    }
   ],
   "source": [
    "doc_topics[:10]"
   ]
  },
  {
   "cell_type": "code",
   "execution_count": null,
   "id": "ee5735df",
   "metadata": {},
   "outputs": [],
   "source": []
  },
  {
   "cell_type": "code",
   "execution_count": 12,
   "id": "7069041e",
   "metadata": {},
   "outputs": [],
   "source": [
    "# get top k topics for each sentence\n",
    "k = 3\n",
    "top_k_topics = [[t[0] for t in sorted(sent_topics, key=lambda x: x[1], reverse=True)][:k] \n",
    "                for sent_topics in doc_topics]"
   ]
  },
  {
   "cell_type": "code",
   "execution_count": null,
   "id": "cd199a45",
   "metadata": {},
   "outputs": [],
   "source": []
  },
  {
   "cell_type": "code",
   "execution_count": 13,
   "id": "1036db68",
   "metadata": {},
   "outputs": [
    {
     "data": {
      "text/plain": [
       "[[3], [0], [1], [1], [0], [0], [0], [0], [4], [4]]"
      ]
     },
     "execution_count": 13,
     "metadata": {},
     "output_type": "execute_result"
    }
   ],
   "source": [
    "top_k_topics[:10]"
   ]
  },
  {
   "cell_type": "code",
   "execution_count": null,
   "id": "e2ecb433",
   "metadata": {},
   "outputs": [],
   "source": []
  },
  {
   "cell_type": "code",
   "execution_count": 14,
   "id": "fc4a756f",
   "metadata": {},
   "outputs": [
    {
     "data": {
      "text/plain": [
       "<matplotlib.collections.PathCollection at 0x7fe3bbeb3280>"
      ]
     },
     "execution_count": 14,
     "metadata": {},
     "output_type": "execute_result"
    },
    {
     "data": {
      "image/png": "[encoded data removed]",
      "text/plain": [
       "<Figure size 800x400 with 1 Axes>"
      ]
     },
     "metadata": {},
     "output_type": "display_data"
    }
   ],
   "source": [
    "# Scatter plots of topic distribution\n",
    "\n",
    "plt.ylim(-1, N_TOPICS)\n",
    "plt.xlim(-1, len(sents)+1)\n",
    "\n",
    "plot_data_x = []\n",
    "plot_data_y = []\n",
    "\n",
    "for i, elem in enumerate(top_k_topics):\n",
    "    for topic in elem:\n",
    "        plot_data_x.append(i)\n",
    "        plot_data_y.append(topic)\n",
    "\n",
    "import matplotlib.pyplot as plt\n",
    "plt.scatter(plot_data_x, plot_data_y)"
   ]
  },
  {
   "cell_type": "code",
   "execution_count": null,
   "id": "dfea2ce9",
   "metadata": {},
   "outputs": [],
   "source": []
  },
  {
   "cell_type": "code",
   "execution_count": 15,
   "id": "fbe3b608",
   "metadata": {},
   "outputs": [],
   "source": [
    "# Compute similarity vector from topics"
   ]
  },
  {
   "cell_type": "code",
   "execution_count": 16,
   "id": "daab0c04",
   "metadata": {},
   "outputs": [],
   "source": [
    "from itertools import islice\n",
    "import numpy as np\n",
    "\n",
    "def window(seq, n=3):\n",
    "    \"\"\"https://stackoverflow.com/questions/6822725/rolling-or-sliding-window-iterator\n",
    "    Returns a sliding window of width n over data from the iterable seq\"\"\"\n",
    "    \n",
    "    it = iter(seq)\n",
    "    result = tuple(islice(it, n))\n",
    "    if len(result) == n:\n",
    "        yield result\n",
    "    for elem in it:\n",
    "        result = result[1:] + (elem,)\n",
    "        yield result"
   ]
  },
  {
   "cell_type": "code",
   "execution_count": 17,
   "id": "b3fc1fb7",
   "metadata": {},
   "outputs": [],
   "source": [
    "from itertools import chain\n",
    "\n",
    "WINDOW_SIZE = 3\n",
    "\n",
    "window_topics = window(top_k_topics, n=WINDOW_SIZE)\n",
    "window_topics = [list(set(chain.from_iterable(window))) for window in window_topics]"
   ]
  },
  {
   "cell_type": "code",
   "execution_count": 18,
   "id": "05ebacb3",
   "metadata": {},
   "outputs": [
    {
     "data": {
      "text/plain": [
       "[[0, 1, 3],\n",
       " [0, 1],\n",
       " [0, 1],\n",
       " [0, 1],\n",
       " [0],\n",
       " [0],\n",
       " [0, 4],\n",
       " [0, 4],\n",
       " [1, 4],\n",
       " [1, 3, 4]]"
      ]
     },
     "execution_count": 18,
     "metadata": {},
     "output_type": "execute_result"
    }
   ],
   "source": [
    "window_topics[:10]"
   ]
  },
  {
   "cell_type": "code",
   "execution_count": null,
   "id": "b1c2f12c",
   "metadata": {},
   "outputs": [],
   "source": []
  },
  {
   "cell_type": "code",
   "execution_count": 19,
   "id": "a0d4eabf",
   "metadata": {},
   "outputs": [],
   "source": [
    "# Encode topics for similarity computation\n",
    "\n",
    "from sklearn.preprocessing import MultiLabelBinarizer\n",
    "\n",
    "binarizer = MultiLabelBinarizer(classes=range(N_TOPICS))\n",
    "\n",
    "encoded_topics = binarizer.fit_transform(window_topics)"
   ]
  },
  {
   "cell_type": "code",
   "execution_count": null,
   "id": "6915b17b",
   "metadata": {},
   "outputs": [],
   "source": []
  },
  {
   "cell_type": "code",
   "execution_count": 20,
   "id": "f2b7cd71",
   "metadata": {
    "scrolled": true
   },
   "outputs": [
    {
     "data": {
      "text/plain": [
       "array([[1, 1, 0, 1, 0],\n",
       "       [1, 1, 0, 0, 0],\n",
       "       [1, 1, 0, 0, 0],\n",
       "       [1, 1, 0, 0, 0],\n",
       "       [1, 0, 0, 0, 0],\n",
       "       [1, 0, 0, 0, 0],\n",
       "       [1, 0, 0, 0, 1],\n",
       "       [1, 0, 0, 0, 1],\n",
       "       [0, 1, 0, 0, 1],\n",
       "       [0, 1, 0, 1, 1]])"
      ]
     },
     "execution_count": 20,
     "metadata": {},
     "output_type": "execute_result"
    }
   ],
   "source": [
    "encoded_topics[:10]"
   ]
  },
  {
   "cell_type": "code",
   "execution_count": null,
   "id": "96c2e42d",
   "metadata": {},
   "outputs": [],
   "source": []
  },
  {
   "cell_type": "code",
   "execution_count": null,
   "id": "d3c2dace",
   "metadata": {},
   "outputs": [],
   "source": []
  },
  {
   "cell_type": "code",
   "execution_count": 21,
   "id": "4281df44",
   "metadata": {},
   "outputs": [
    {
     "data": {
      "text/plain": [
       "[<matplotlib.lines.Line2D at 0x7fe3ed07fca0>]"
      ]
     },
     "execution_count": 21,
     "metadata": {},
     "output_type": "execute_result"
    },
    {
     "data": {
      "image/png": "[encoded data removed]",
      "text/plain": [
       "<Figure size 800x400 with 1 Axes>"
      ]
     },
     "metadata": {},
     "output_type": "display_data"
    }
   ],
   "source": [
    "# Compute coherence scores\n",
    "\n",
    "from sklearn.metrics.pairwise import cosine_similarity\n",
    "\n",
    "coherence_scores = [cosine_similarity([pair[0]], [pair[1]])[0][0] \n",
    "                    for pair in zip(encoded_topics, encoded_topics[1:])]\n",
    "\n",
    "plt.ylim(0, 1.1)\n",
    "plt.xlim(0, len(coherence_scores)-1)\n",
    "plt.plot(coherence_scores)"
   ]
  },
  {
   "cell_type": "code",
   "execution_count": null,
   "id": "6e0af504",
   "metadata": {},
   "outputs": [],
   "source": []
  },
  {
   "cell_type": "code",
   "execution_count": 22,
   "id": "fd6fc8eb",
   "metadata": {},
   "outputs": [],
   "source": [
    "# Store length of signal\n",
    "n = len(coherence_scores)"
   ]
  },
  {
   "cell_type": "code",
   "execution_count": 23,
   "id": "8b755a3b",
   "metadata": {},
   "outputs": [
    {
     "data": {
      "text/plain": [
       "[<matplotlib.lines.Line2D at 0x7fe3d811aeb0>]"
      ]
     },
     "execution_count": 23,
     "metadata": {},
     "output_type": "execute_result"
    },
    {
     "data": {
      "image/png": "[encoded data removed]",
      "text/plain": [
       "<Figure size 800x400 with 1 Axes>"
      ]
     },
     "metadata": {},
     "output_type": "display_data"
    }
   ],
   "source": [
    "# Compute depth scores\n",
    "\n",
    "def get_depths(scores):\n",
    "    \"\"\"Given a sequence of coherence scores of length n, compute a sequence of depth scores of similar length\"\"\"\n",
    "    \n",
    "    def climb(seq, i, mode='left'):\n",
    "        \"\"\"Given a sequence seq of values and index i, advance the index either to the right or left while the \n",
    "        value keeps increasing, then return the value at new index\n",
    "        \"\"\"\n",
    "        if mode == 'left':\n",
    "            while True:\n",
    "                curr = seq[i]\n",
    "                if i == 0:\n",
    "                    return curr\n",
    "                i = i-1\n",
    "                if not seq[i] > curr:\n",
    "                    return curr\n",
    "\n",
    "        if mode == 'right':\n",
    "            while True:\n",
    "                curr = seq[i]\n",
    "                if i == (len(seq)-1):\n",
    "                    return curr\n",
    "                i = i+1\n",
    "                if not seq[i] > curr:\n",
    "                    return curr\n",
    "    \n",
    "    depths = []\n",
    "    for i in range(len(scores)):\n",
    "        score = scores[i]\n",
    "        l_peak = climb(scores, i, mode='left')\n",
    "        r_peak = climb(scores, i, mode='right')\n",
    "        depth = 0.5 * (l_peak + r_peak - (2*score))\n",
    "        depths.append(depth)\n",
    "        \n",
    "    return np.array(depths)\n",
    "\n",
    "\n",
    "depth_scores = get_depths(coherence_scores)\n",
    "\n",
    "plt.xlim(0, n-1)\n",
    "plt.ylim(0, 1.1)\n",
    "plt.plot(depth_scores)"
   ]
  },
  {
   "cell_type": "code",
   "execution_count": null,
   "id": "d37d00de",
   "metadata": {},
   "outputs": [],
   "source": []
  },
  {
   "cell_type": "code",
   "execution_count": 24,
   "id": "5d5090ef",
   "metadata": {},
   "outputs": [
    {
     "data": {
      "text/plain": [
       "[<matplotlib.lines.Line2D at 0x7fe3c89a6f10>]"
      ]
     },
     "execution_count": 24,
     "metadata": {},
     "output_type": "execute_result"
    },
    {
     "data": {
      "image/png": "[encoded data removed]",
      "text/plain": [
       "<Figure size 800x400 with 1 Axes>"
      ]
     },
     "metadata": {},
     "output_type": "display_data"
    }
   ],
   "source": [
    "# Filter out local maxima\n",
    "from scipy.signal import argrelmax\n",
    "\n",
    "def get_local_maxima(depth_scores, order=1):\n",
    "    \"\"\"Given a sequence of depth scores, return a filtered sequence where only local maxima \n",
    "    selected based on the given order\"\"\"\n",
    "    \n",
    "    maxima_ids = argrelmax(depth_scores, order=order)[0]\n",
    "    filtered_scores = np.zeros(len(depth_scores))\n",
    "    filtered_scores[maxima_ids] = depth_scores[maxima_ids]\n",
    "    return filtered_scores\n",
    "\n",
    "# Get local maxima\n",
    "filtered_scores = get_local_maxima(depth_scores, order=1)\n",
    "\n",
    "plt.xlim(0, n-1)\n",
    "plt.ylim(0, 1.1)\n",
    "plt.plot(filtered_scores)"
   ]
  },
  {
   "cell_type": "code",
   "execution_count": null,
   "id": "1fa14754",
   "metadata": {},
   "outputs": [],
   "source": []
  },
  {
   "cell_type": "code",
   "execution_count": 25,
   "id": "5d31e571",
   "metadata": {},
   "outputs": [],
   "source": [
    "def compute_threshold(scores):\n",
    "    \"\"\"From Texttiling: https://aclanthology.org/J97-1003.pdf\n",
    "    Automatically compute an appropriate threshold given a sequence of depth scores\n",
    "    \"\"\"\n",
    "    s = scores[np.nonzero(scores)]\n",
    "    threshold = np.mean(s) - (np.std(s) / 2)\n",
    "    return threshold\n",
    "\n",
    "# Automatic threshold computation\n",
    "threshold = compute_threshold(filtered_scores)"
   ]
  },
  {
   "cell_type": "code",
   "execution_count": 26,
   "id": "8632fdc8",
   "metadata": {},
   "outputs": [
    {
     "name": "stdout",
     "output_type": "stream",
     "text": [
      "0.23276669011982865\n"
     ]
    }
   ],
   "source": [
    "print(threshold)"
   ]
  },
  {
   "cell_type": "code",
   "execution_count": null,
   "id": "a8426109",
   "metadata": {},
   "outputs": [],
   "source": []
  },
  {
   "cell_type": "code",
   "execution_count": 27,
   "id": "6f02201b",
   "metadata": {},
   "outputs": [
    {
     "name": "stdout",
     "output_type": "stream",
     "text": [
      "[3 5 7]\n"
     ]
    }
   ],
   "source": [
    "# Select segments based on threshold\n",
    "\n",
    "def get_threshold_segments(scores, threshold=0.1):\n",
    "    \"\"\"Given a sequence of depth scores, return indexes where the value is greater than the threshold\"\"\"\n",
    "    \n",
    "    segment_ids = np.where(scores >= threshold)[0]\n",
    "    return segment_ids\n",
    "\n",
    "segment_ids = get_threshold_segments(filtered_scores, threshold)\n",
    "\n",
    "print(segment_ids)"
   ]
  },
  {
   "cell_type": "code",
   "execution_count": null,
   "id": "00b1761e",
   "metadata": {},
   "outputs": [],
   "source": []
  },
  {
   "cell_type": "code",
   "execution_count": 28,
   "id": "b30622cd",
   "metadata": {},
   "outputs": [
    {
     "data": {
      "text/plain": [
       "[<matplotlib.lines.Line2D at 0x7fe3d8170490>]"
      ]
     },
     "execution_count": 28,
     "metadata": {},
     "output_type": "execute_result"
    },
    {
     "data": {
      "image/png": "[encoded data removed]",
      "text/plain": [
       "<Figure size 800x400 with 1 Axes>"
      ]
     },
     "metadata": {},
     "output_type": "display_data"
    }
   ],
   "source": [
    "plt.xlim(0, n-1)\n",
    "plt.ylim(0, 1.1)\n",
    "plt.plot(filtered_scores)\n",
    "\n",
    "# Plot threshold metadata\n",
    "plt.plot(np.repeat(threshold, len(filtered_scores)), c='orange')\n",
    "plt.plot(segment_ids, filtered_scores[segment_ids], 'o', c='red')"
   ]
  },
  {
   "cell_type": "code",
   "execution_count": null,
   "id": "9d83c50f",
   "metadata": {},
   "outputs": [],
   "source": []
  },
  {
   "cell_type": "code",
   "execution_count": 29,
   "id": "c46b4eb1",
   "metadata": {},
   "outputs": [],
   "source": [
    "# Use computed ids to segment input document\n",
    "\n",
    "segment_indices = segment_ids + WINDOW_SIZE\n",
    "\n",
    "segment_indices = [0] + segment_indices.tolist() + [len(sents)]\n",
    "slices = list(zip(segment_indices[:-1], segment_indices[1:]))\n",
    "\n",
    "segmented = [sents[s[0]: s[1]] for s in slices]"
   ]
  },
  {
   "cell_type": "code",
   "execution_count": 30,
   "id": "5f27c546",
   "metadata": {},
   "outputs": [
    {
     "data": {
      "text/plain": [
       "[[Months before the Supreme Court overturned Roe v. Wade, the federal appeals court based in this Southern city cleared the way to ban most abortions in Texas.,\n",
       "  The same court appeared to jump the line to block the White House’s signature coronavirus vaccination mandate and split from other courts to back restrictions on social media companies and constrain President Biden’s immigration powers.,\n",
       "  The U.S. Court of Appeals for the 5th Circuit in New Orleans has long leaned conservative.,\n",
       "  But the arrival of a half-dozen judges picked by President Donald Trump — many of them young, ambitious and outspoken — has put the court at the forefront of resistance to the Biden administration’s assertions of legal authority and to the regulatory power of federal agencies.,\n",
       "  Their rulings have at times broken with precedent and exposed rifts among the judges, illustrating Trump’s lasting legacy on the powerful set of federal courts that operate one step below the Supreme Court.,\n",
       "  Even some veteran conservatives on the court have criticized the newcomers for going too far.],\n",
       " [Four of the six new judges have worked for Republican politicians in Texas, and some are seen as possible contenders for a future opening on the Supreme Court if a Republican is elected president.,\n",
       "  With their provocative, colloquial writing styles, the judges are elevating their profiles in far-reaching opinions and public appearances, calling out “cancel culture,” wokeness and sometimes even one another.],\n",
       " [“Any school that refuses to stand up against cancel culture — and instead caters to it, and even engages in it — is not a school that is interested in educational diversity.,\n",
       "  And it’s not a school I want to have anything to do with,” Judge James C. Ho wrote in an article explaining his proposed boycott on hiring Yale Law School students as law clerks because of concerns about free speech on the campuses of elite institutions.],\n",
       " [The 5th Circuit reviews appeals from Texas, Mississippi and Louisiana, working from a converted, historic post office building in downtown New Orleans.,\n",
       "  Besides the expansive geographic area the court covers, it has outsize influence in part because its judges preside over a steady flow of politically potent challenges to the Democratic president filed by aggressive, conservative state attorneys general.,\n",
       "  Liberal organizations often challenged Trump’s policies in Northern California courts, where most judges were picked by Democrats.,\n",
       "  But conservatives who strategically file lawsuits against the Biden administration in Texas have an even clearer advantage: They can almost guarantee initial review by a conservative judge and then appellate review by the 5th Circuit, where the Trump picks are routinely the dominant voice.,\n",
       "  “These are the most conservative federal judges in the country having cases specifically brought so that they can decide them at a time when the Supreme Court is reversing some of their decisions, but not all of them.,\n",
       "  There’s nothing to lose,” said Steve Vladeck, a University of Texas School of Law professor whose analysis of “judge shopping” in Texas was the subject of a recent brief filed in advance of a Supreme Court case.,\n",
       "  Alexa Gervasi, a former 5th Circuit law clerk who directs the Georgetown Center for the Constitution at Georgetown Law, said it is no surprise that the court is issuing noteworthy rulings in so many significant cases.,\n",
       "  “The reason it seems like there’s so much fire coming from the 5th Circuit is that they are getting really divisive cases,” said Gervasi, who also has practiced before the court.,\n",
       "  “If you send controversial cases to the 5th Circuit, you’re going to get controversial opinions.”]]"
      ]
     },
     "execution_count": 30,
     "metadata": {},
     "output_type": "execute_result"
    }
   ],
   "source": [
    "segmented"
   ]
  },
  {
   "cell_type": "code",
   "execution_count": null,
   "id": "b4374f04",
   "metadata": {},
   "outputs": [],
   "source": []
  },
  {
   "cell_type": "code",
   "execution_count": 31,
   "id": "6f787458",
   "metadata": {},
   "outputs": [
    {
     "name": "stdout",
     "output_type": "stream",
     "text": [
      "- Months before the Supreme Court overturned Roe v. Wade, the federal appeals court based in this Southern city cleared the way to ban most abortions in Texas.\n",
      "- The same court appeared to jump the line to block the White House’s signature coronavirus vaccination mandate and split from other courts to back restrictions on social media companies and constrain President Biden’s immigration powers.\n",
      "- The U.S. Court of Appeals for the 5th Circuit in New Orleans has long leaned conservative.\n",
      "- But the arrival of a half-dozen judges picked by President Donald Trump — many of them young, ambitious and outspoken — has put the court at the forefront of resistance to the Biden administration’s assertions of legal authority and to the regulatory power of federal agencies.\n",
      "- Their rulings have at times broken with precedent and exposed rifts among the judges, illustrating Trump’s lasting legacy on the powerful set of federal courts that operate one step below the Supreme Court.\n",
      "- Even some veteran conservatives on the court have criticized the newcomers for going too far.\n",
      "<SEGMENT>\n",
      "- Four of the six new judges have worked for Republican politicians in Texas, and some are seen as possible contenders for a future opening on the Supreme Court if a Republican is elected president.\n",
      "- With their provocative, colloquial writing styles, the judges are elevating their profiles in far-reaching opinions and public appearances, calling out “cancel culture,” wokeness and sometimes even one another.\n",
      "<SEGMENT>\n",
      "- “Any school that refuses to stand up against cancel culture — and instead caters to it, and even engages in it — is not a school that is interested in educational diversity.\n",
      "- And it’s not a school I want to have anything to do with,” Judge James C. Ho wrote in an article explaining his proposed boycott on hiring Yale Law School students as law clerks because of concerns about free speech on the campuses of elite institutions.\n",
      "<SEGMENT>\n",
      "- The 5th Circuit reviews appeals from Texas, Mississippi and Louisiana, working from a converted, historic post office building in downtown New Orleans.\n",
      "- Besides the expansive geographic area the court covers, it has outsize influence in part because its judges preside over a steady flow of politically potent challenges to the Democratic president filed by aggressive, conservative state attorneys general.\n",
      "- Liberal organizations often challenged Trump’s policies in Northern California courts, where most judges were picked by Democrats.\n",
      "- But conservatives who strategically file lawsuits against the Biden administration in Texas have an even clearer advantage: They can almost guarantee initial review by a conservative judge and then appellate review by the 5th Circuit, where the Trump picks are routinely the dominant voice.\n",
      "- “These are the most conservative federal judges in the country having cases specifically brought so that they can decide them at a time when the Supreme Court is reversing some of their decisions, but not all of them.\n",
      "- There’s nothing to lose,” said Steve Vladeck, a University of Texas School of Law professor whose analysis of “judge shopping” in Texas was the subject of a recent brief filed in advance of a Supreme Court case.\n",
      "- Alexa Gervasi, a former 5th Circuit law clerk who directs the Georgetown Center for the Constitution at Georgetown Law, said it is no surprise that the court is issuing noteworthy rulings in so many significant cases.\n",
      "- “The reason it seems like there’s so much fire coming from the 5th Circuit is that they are getting really divisive cases,” said Gervasi, who also has practiced before the court.\n",
      "- “If you send controversial cases to the 5th Circuit, you’re going to get controversial opinions.”\n",
      "<SEGMENT>\n"
     ]
    }
   ],
   "source": [
    "# Print output\n",
    "\n",
    "output = []\n",
    "for elem in segmented:\n",
    "    for i, s in enumerate(elem):\n",
    "        output.append(\"- \" + s.text)\n",
    "    output.append(\"<SEGMENT>\")\n",
    "    \n",
    "for elem in output:\n",
    "    print(elem)"
   ]
  },
  {
   "cell_type": "code",
   "execution_count": null,
   "id": "e9f01e88",
   "metadata": {},
   "outputs": [],
   "source": []
  },
  {
   "cell_type": "code",
   "execution_count": 32,
   "id": "46bca1db",
   "metadata": {},
   "outputs": [],
   "source": [
    "# Save to file\n",
    "with open('output/topic_output.txt','w') as file:\n",
    "    file.write('\\n'.join(output))"
   ]
  },
  {
   "cell_type": "code",
   "execution_count": null,
   "id": "84dd1b52",
   "metadata": {},
   "outputs": [],
   "source": []
  },
  {
   "cell_type": "code",
   "execution_count": null,
   "id": "a2e6179a",
   "metadata": {},
   "outputs": [],
   "source": []
  },
  {
   "cell_type": "code",
   "execution_count": 33,
   "id": "66adcee0",
   "metadata": {},
   "outputs": [
    {
     "data": {
      "text/plain": [
       "'LLM based segmentation'"
      ]
     },
     "execution_count": 33,
     "metadata": {},
     "output_type": "execute_result"
    }
   ],
   "source": [
    "\"\"\"LLM based segmentation\"\"\""
   ]
  },
  {
   "cell_type": "code",
   "execution_count": 34,
   "id": "2f013300",
   "metadata": {},
   "outputs": [],
   "source": [
    "from src.utils import window, get_depths, get_local_maxima, get_threshold_segments, compute_threshold"
   ]
  },
  {
   "cell_type": "code",
   "execution_count": 35,
   "id": "1b7110dd",
   "metadata": {},
   "outputs": [],
   "source": [
    "# Load bert model\n",
    "\n",
    "from sentence_transformers import SentenceTransformer\n",
    "\n",
    "MODEL_STR = \"sentence-transformers/all-MiniLM-L6-v2\"\n",
    "\n",
    "model = SentenceTransformer(MODEL_STR)"
   ]
  },
  {
   "cell_type": "code",
   "execution_count": null,
   "id": "6022029d",
   "metadata": {},
   "outputs": [],
   "source": []
  },
  {
   "cell_type": "code",
   "execution_count": 36,
   "id": "f2d355f3",
   "metadata": {},
   "outputs": [],
   "source": [
    "WINDOW_SIZE = 3\n",
    "\n",
    "window_sent = list(window(sents, WINDOW_SIZE))\n",
    "assert(len(window_sent) == (len(sents) - WINDOW_SIZE + 1))\n",
    "\n",
    "window_sent = [' '.join([sent.text for sent in window]) for window in window_sent]\n",
    "\n",
    "# Encode windowed\n",
    "encoded_sent = model.encode(window_sent)"
   ]
  },
  {
   "cell_type": "code",
   "execution_count": null,
   "id": "b45373f9",
   "metadata": {},
   "outputs": [],
   "source": []
  },
  {
   "cell_type": "code",
   "execution_count": 37,
   "id": "1b1d2485",
   "metadata": {},
   "outputs": [
    {
     "data": {
      "text/plain": [
       "(17, 384)"
      ]
     },
     "execution_count": 37,
     "metadata": {},
     "output_type": "execute_result"
    }
   ],
   "source": [
    "encoded_sent.shape"
   ]
  },
  {
   "cell_type": "code",
   "execution_count": 38,
   "id": "d3a42973",
   "metadata": {},
   "outputs": [],
   "source": [
    "# get pairs of windows"
   ]
  },
  {
   "cell_type": "code",
   "execution_count": null,
   "id": "24d79e81",
   "metadata": {},
   "outputs": [],
   "source": []
  },
  {
   "cell_type": "code",
   "execution_count": 39,
   "id": "8c79a3ee",
   "metadata": {},
   "outputs": [],
   "source": [
    "# compute coherence scores\n",
    "\n",
    "from sklearn.metrics.pairwise import cosine_similarity\n",
    "\n",
    "coherence_scores = [cosine_similarity([pair[0]], [pair[1]])[0][0] for pair in zip(encoded_sent, encoded_sent[1:])]"
   ]
  },
  {
   "cell_type": "code",
   "execution_count": 40,
   "id": "6b062e17",
   "metadata": {},
   "outputs": [],
   "source": [
    "# Get signal length\n",
    "n = len(coherence_scores)"
   ]
  },
  {
   "cell_type": "code",
   "execution_count": 41,
   "id": "01d2728a",
   "metadata": {},
   "outputs": [
    {
     "data": {
      "text/plain": [
       "[<matplotlib.lines.Line2D at 0x7fe3ef4254c0>]"
      ]
     },
     "execution_count": 41,
     "metadata": {},
     "output_type": "execute_result"
    },
    {
     "data": {
      "image/png": "[encoded data removed]",
      "text/plain": [
       "<Figure size 800x400 with 1 Axes>"
      ]
     },
     "metadata": {},
     "output_type": "display_data"
    }
   ],
   "source": [
    "# Plot coherence scores\n",
    "plt.xlim(0, n-1)\n",
    "plt.ylim(0, 1.1)\n",
    "plt.plot(coherence_scores)"
   ]
  },
  {
   "cell_type": "code",
   "execution_count": null,
   "id": "418627b2",
   "metadata": {},
   "outputs": [],
   "source": []
  },
  {
   "cell_type": "code",
   "execution_count": null,
   "id": "7ee918e0",
   "metadata": {},
   "outputs": [],
   "source": []
  },
  {
   "cell_type": "code",
   "execution_count": 42,
   "id": "1064f6c7",
   "metadata": {},
   "outputs": [
    {
     "data": {
      "text/plain": [
       "[<matplotlib.lines.Line2D at 0x7fe3d83de220>]"
      ]
     },
     "execution_count": 42,
     "metadata": {},
     "output_type": "execute_result"
    },
    {
     "data": {
      "image/png": "[encoded data removed]",
      "text/plain": [
       "<Figure size 800x400 with 1 Axes>"
      ]
     },
     "metadata": {},
     "output_type": "display_data"
    }
   ],
   "source": [
    "# Compute depth scores\n",
    "depth_scores = get_depths(coherence_scores)\n",
    "\n",
    "# Plot depth scores\n",
    "plt.xlim(0, n-1)\n",
    "plt.ylim(0, 1.1)\n",
    "plt.plot(depth_scores)"
   ]
  },
  {
   "cell_type": "code",
   "execution_count": null,
   "id": "ce922a34",
   "metadata": {},
   "outputs": [],
   "source": []
  },
  {
   "cell_type": "code",
   "execution_count": null,
   "id": "43f0aef5",
   "metadata": {},
   "outputs": [],
   "source": []
  },
  {
   "cell_type": "code",
   "execution_count": null,
   "id": "1947db91",
   "metadata": {},
   "outputs": [],
   "source": []
  },
  {
   "cell_type": "code",
   "execution_count": 43,
   "id": "a30fda2b",
   "metadata": {},
   "outputs": [
    {
     "data": {
      "text/plain": [
       "[<matplotlib.lines.Line2D at 0x7fe3c8e62fd0>]"
      ]
     },
     "execution_count": 43,
     "metadata": {},
     "output_type": "execute_result"
    },
    {
     "data": {
      "image/png": "[encoded data removed]",
      "text/plain": [
       "<Figure size 800x400 with 1 Axes>"
      ]
     },
     "metadata": {},
     "output_type": "display_data"
    }
   ],
   "source": [
    "# Get local maxima\n",
    "filtered_scores = get_local_maxima(depth_scores, order=1)\n",
    "\n",
    "# Plot filtered scores\n",
    "plt.xlim(0, n-1)\n",
    "plt.ylim(0, 1.1)\n",
    "plt.plot(filtered_scores)"
   ]
  },
  {
   "cell_type": "code",
   "execution_count": null,
   "id": "c7a4c08e",
   "metadata": {},
   "outputs": [],
   "source": []
  },
  {
   "cell_type": "code",
   "execution_count": 44,
   "id": "acce6178",
   "metadata": {},
   "outputs": [],
   "source": [
    "# Automatic threshold computation\n",
    "threshold = compute_threshold(filtered_scores)"
   ]
  },
  {
   "cell_type": "code",
   "execution_count": null,
   "id": "672cc03b",
   "metadata": {},
   "outputs": [],
   "source": []
  },
  {
   "cell_type": "code",
   "execution_count": 52,
   "id": "912a3a52",
   "metadata": {},
   "outputs": [
    {
     "name": "stdout",
     "output_type": "stream",
     "text": [
      "0.11278714255625741\n"
     ]
    }
   ],
   "source": [
    "# Select segments based on threshold\n",
    "segment_ids = get_threshold_segments(filtered_scores, threshold)\n",
    "\n",
    "print(threshold)"
   ]
  },
  {
   "cell_type": "code",
   "execution_count": null,
   "id": "45dd7e7b",
   "metadata": {},
   "outputs": [],
   "source": [
    "\n"
   ]
  },
  {
   "cell_type": "code",
   "execution_count": 53,
   "id": "0d9cc5f5",
   "metadata": {},
   "outputs": [
    {
     "data": {
      "text/plain": [
       "[<matplotlib.lines.Line2D at 0x7fe358119d90>]"
      ]
     },
     "execution_count": 53,
     "metadata": {},
     "output_type": "execute_result"
    },
    {
     "data": {
      "image/png": "[encoded data removed]",
      "text/plain": [
       "<Figure size 800x400 with 1 Axes>"
      ]
     },
     "metadata": {},
     "output_type": "display_data"
    }
   ],
   "source": [
    "# Plot filtered scores\n",
    "plt.xlim(0, n-1)\n",
    "plt.ylim(0, 1.1)\n",
    "plt.plot(filtered_scores)\n",
    "\n",
    "# Plot threshold metadata\n",
    "plt.plot(np.repeat(threshold, len(filtered_scores)), c='orange')\n",
    "plt.plot(segment_ids, filtered_scores[segment_ids], 'o', c='red')"
   ]
  },
  {
   "cell_type": "code",
   "execution_count": null,
   "id": "b8d6a0b6",
   "metadata": {},
   "outputs": [],
   "source": []
  },
  {
   "cell_type": "code",
   "execution_count": null,
   "id": "e5897e17",
   "metadata": {},
   "outputs": [],
   "source": []
  },
  {
   "cell_type": "code",
   "execution_count": null,
   "id": "c2528d7d",
   "metadata": {},
   "outputs": [],
   "source": []
  },
  {
   "cell_type": "code",
   "execution_count": 47,
   "id": "6a88b700",
   "metadata": {},
   "outputs": [],
   "source": [
    "### Here"
   ]
  },
  {
   "cell_type": "code",
   "execution_count": 48,
   "id": "ff0eb502",
   "metadata": {},
   "outputs": [],
   "source": [
    "# Use computed ids to segment input document\n",
    "\n",
    "segment_indices = segment_ids + WINDOW_SIZE\n",
    "\n",
    "segment_indices = [0] + segment_indices.tolist() + [len(sents)]\n",
    "slices = list(zip(segment_indices[:-1], segment_indices[1:]))\n",
    "\n",
    "segmented = [sents[s[0]: s[1]] for s in slices]"
   ]
  },
  {
   "cell_type": "code",
   "execution_count": null,
   "id": "6a3d4e44",
   "metadata": {},
   "outputs": [],
   "source": []
  },
  {
   "cell_type": "code",
   "execution_count": 49,
   "id": "7853c32e",
   "metadata": {},
   "outputs": [
    {
     "name": "stdout",
     "output_type": "stream",
     "text": [
      "- Months before the Supreme Court overturned Roe v. Wade, the federal appeals court based in this Southern city cleared the way to ban most abortions in Texas.\n",
      "- The same court appeared to jump the line to block the White House’s signature coronavirus vaccination mandate and split from other courts to back restrictions on social media companies and constrain President Biden’s immigration powers.\n",
      "- The U.S. Court of Appeals for the 5th Circuit in New Orleans has long leaned conservative.\n",
      "- But the arrival of a half-dozen judges picked by President Donald Trump — many of them young, ambitious and outspoken — has put the court at the forefront of resistance to the Biden administration’s assertions of legal authority and to the regulatory power of federal agencies.\n",
      "- Their rulings have at times broken with precedent and exposed rifts among the judges, illustrating Trump’s lasting legacy on the powerful set of federal courts that operate one step below the Supreme Court.\n",
      "- Even some veteran conservatives on the court have criticized the newcomers for going too far.\n",
      "<SEGMENT>\n",
      "- Four of the six new judges have worked for Republican politicians in Texas, and some are seen as possible contenders for a future opening on the Supreme Court if a Republican is elected president.\n",
      "- With their provocative, colloquial writing styles, the judges are elevating their profiles in far-reaching opinions and public appearances, calling out “cancel culture,” wokeness and sometimes even one another.\n",
      "<SEGMENT>\n",
      "- “Any school that refuses to stand up against cancel culture — and instead caters to it, and even engages in it — is not a school that is interested in educational diversity.\n",
      "- And it’s not a school I want to have anything to do with,” Judge James C. Ho wrote in an article explaining his proposed boycott on hiring Yale Law School students as law clerks because of concerns about free speech on the campuses of elite institutions.\n",
      "<SEGMENT>\n",
      "- The 5th Circuit reviews appeals from Texas, Mississippi and Louisiana, working from a converted, historic post office building in downtown New Orleans.\n",
      "- Besides the expansive geographic area the court covers, it has outsize influence in part because its judges preside over a steady flow of politically potent challenges to the Democratic president filed by aggressive, conservative state attorneys general.\n",
      "- Liberal organizations often challenged Trump’s policies in Northern California courts, where most judges were picked by Democrats.\n",
      "- But conservatives who strategically file lawsuits against the Biden administration in Texas have an even clearer advantage: They can almost guarantee initial review by a conservative judge and then appellate review by the 5th Circuit, where the Trump picks are routinely the dominant voice.\n",
      "- “These are the most conservative federal judges in the country having cases specifically brought so that they can decide them at a time when the Supreme Court is reversing some of their decisions, but not all of them.\n",
      "- There’s nothing to lose,” said Steve Vladeck, a University of Texas School of Law professor whose analysis of “judge shopping” in Texas was the subject of a recent brief filed in advance of a Supreme Court case.\n",
      "- Alexa Gervasi, a former 5th Circuit law clerk who directs the Georgetown Center for the Constitution at Georgetown Law, said it is no surprise that the court is issuing noteworthy rulings in so many significant cases.\n",
      "- “The reason it seems like there’s so much fire coming from the 5th Circuit is that they are getting really divisive cases,” said Gervasi, who also has practiced before the court.\n",
      "- “If you send controversial cases to the 5th Circuit, you’re going to get controversial opinions.”\n",
      "<SEGMENT>\n"
     ]
    }
   ],
   "source": [
    "# Print output\n",
    "\n",
    "output = []\n",
    "for elem in segmented:\n",
    "    for i, s in enumerate(elem):\n",
    "        output.append(\"- \" + s.text)\n",
    "    output.append(\"<SEGMENT>\")\n",
    "    \n",
    "for elem in output:\n",
    "    print(elem)"
   ]
  },
  {
   "cell_type": "code",
   "execution_count": null,
   "id": "f6c5a7b7",
   "metadata": {},
   "outputs": [],
   "source": []
  },
  {
   "cell_type": "code",
   "execution_count": 50,
   "id": "b3348a60",
   "metadata": {},
   "outputs": [],
   "source": [
    "# Save to file\n",
    "with open('output/minilm_output.txt','w') as file:\n",
    "    file.write('\\n'.join(output))"
   ]
  },
  {
   "cell_type": "code",
   "execution_count": null,
   "id": "4ad9220f",
   "metadata": {},
   "outputs": [],
   "source": []
  },
  {
   "cell_type": "code",
   "execution_count": null,
   "id": "0bc9e89c",
   "metadata": {},
   "outputs": [],
   "source": []
  },
  {
   "cell_type": "code",
   "execution_count": null,
   "id": "8397e67e",
   "metadata": {},
   "outputs": [],
   "source": []
  },
  {
   "cell_type": "code",
   "execution_count": null,
   "id": "389a83f5",
   "metadata": {},
   "outputs": [],
   "source": []
  },
  {
   "cell_type": "code",
   "execution_count": null,
   "id": "50601add",
   "metadata": {},
   "outputs": [],
   "source": []
  },
  {
   "cell_type": "code",
   "execution_count": null,
   "id": "70e9d8bc",
   "metadata": {},
   "outputs": [],
   "source": []
  },
  {
   "cell_type": "code",
   "execution_count": null,
   "id": "2bf295b7",
   "metadata": {},
   "outputs": [],
   "source": []
  },
  {
   "cell_type": "code",
   "execution_count": null,
   "id": "88c22896",
   "metadata": {},
   "outputs": [],
   "source": []
  },
  {
   "cell_type": "code",
   "execution_count": null,
   "id": "6c8d7630",
   "metadata": {},
   "outputs": [],
   "source": []
  },
  {
   "cell_type": "code",
   "execution_count": null,
   "id": "adeb4d2a",
   "metadata": {},
   "outputs": [],
   "source": []
  }
 ],
 "metadata": {
  "kernelspec": {
   "display_name": "Python [conda env:work] *",
   "language": "python",
   "name": "conda-env-work-py"
  },
  "language_info": {
   "codemirror_mode": {
    "name": "ipython",
    "version": 3
   },
   "file_extension": ".py",
   "mimetype": "text/x-python",
   "name": "python",
   "nbconvert_exporter": "python",
   "pygments_lexer": "ipython3",
   "version": "3.8.0"
  }
 },
 "nbformat": 4,
 "nbformat_minor": 5
}
